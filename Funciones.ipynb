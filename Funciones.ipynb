{
 "cells": [
  {
   "cell_type": "code",
   "execution_count": 1,
   "metadata": {},
   "outputs": [],
   "source": [
    "import pandas as pd\n",
    "import numpy as np"
   ]
  },
  {
   "cell_type": "code",
   "execution_count": 2,
   "metadata": {},
   "outputs": [],
   "source": [
    "movies = pd.read_csv(\"movies_clean.csv\")\n",
    "movies['release_date'] = pd.to_datetime(movies['release_date'])"
   ]
  },
  {
   "cell_type": "code",
   "execution_count": 28,
   "metadata": {},
   "outputs": [],
   "source": [
    "def cantidad_filmaciones_mes(mes_es):\n",
    "    '''Se ingresa el mes y la funcion retorna \n",
    "        la cantidad de peliculas que se estrenaron \n",
    "        en ese mes historicamente.'''\n",
    "    \n",
    "    mes = mes_es.lower()\n",
    "    \n",
    "    if mes == \"enero\":\n",
    "        mes = \"January\"\n",
    "    if mes == \"febrero\":\n",
    "        mes = \"February\"\n",
    "    if mes == \"marzo\":\n",
    "        mes = \"March\"\n",
    "    if mes == \"abril\":\n",
    "        mes = \"April\"\n",
    "    if mes == \"mayo\":\n",
    "        mes = \"May\"\n",
    "    if mes == \"junio\":\n",
    "        mes = \"June\"\n",
    "    if mes == \"julio\":\n",
    "        mes = \"July\"\n",
    "    if mes == \"agosto\":\n",
    "        mes = \"August\"\n",
    "    if mes == \"septiembre\":\n",
    "        mes = \"September\"\n",
    "    if mes == \"octubre\":\n",
    "        mes = \"October\"\n",
    "    if mes == \"noviembre\":\n",
    "        mes = \"November\"\n",
    "    if mes == \"diciembre\":\n",
    "        mes = \"December\"\n",
    "\n",
    "    peliculas = movies[movies['release_date'].dt.strftime('%B') == mes]\n",
    "    return {\"mes\": mes_es.lower(), \"cantidad\": len(peliculas)}"
   ]
  },
  {
   "cell_type": "code",
   "execution_count": 29,
   "metadata": {},
   "outputs": [
    {
     "data": {
      "text/plain": [
       "{'mes': 'mayo', 'cantidad': 3336}"
      ]
     },
     "execution_count": 29,
     "metadata": {},
     "output_type": "execute_result"
    }
   ],
   "source": [
    "cantidad_filmaciones_mes(\"mayo\")"
   ]
  },
  {
   "cell_type": "code",
   "execution_count": 30,
   "metadata": {},
   "outputs": [],
   "source": [
    "def cantidad_filmaciones_dia(dia_es):\n",
    "    '''Se ingresa el dia y la funcion retorna \n",
    "        la cantidad de peliculas que se estrenaron \n",
    "        en ese dia historicamente.'''\n",
    "    \n",
    "    dia_es = dia_es.lower()\n",
    "    dia = dia_es\n",
    "\n",
    "    if dia_es == \"miercoles\":\n",
    "        dia_es = \"miércoles\"\n",
    "    if dia_es == \"sabado\":\n",
    "        dia_es = \"sábado\"\n",
    "\n",
    "    if dia == \"lunes\":\n",
    "        dia = \"Monday\"\n",
    "    if dia == \"martes\":\n",
    "        dia = \"Tuesday\"\n",
    "    if dia == \"miercoles\" or dia == \"miércoles\":\n",
    "        dia = \"Wednesday\"\n",
    "    if dia == \"jueves\":\n",
    "        dia = \"Thursday\"\n",
    "    if dia == \"viernes\":\n",
    "        dia = \"Friday\"\n",
    "    if dia == \"sabado\" or dia == \"sábado\":\n",
    "        dia = \"Saturday\"\n",
    "    if dia == \"domingo\":\n",
    "        dia = \"Sunday\"\n",
    "        \n",
    "    peliculas = movies[movies['release_date'].dt.strftime('%A') == dia]\n",
    "    return {\"mes\": dia_es, \"cantidad\": len(peliculas)}"
   ]
  },
  {
   "cell_type": "code",
   "execution_count": 31,
   "metadata": {},
   "outputs": [
    {
     "data": {
      "text/plain": [
       "{'mes': 'sábado', 'cantidad': 5149}"
      ]
     },
     "execution_count": 31,
     "metadata": {},
     "output_type": "execute_result"
    }
   ],
   "source": [
    "cantidad_filmaciones_dia(\"sabado\")"
   ]
  },
  {
   "cell_type": "code",
   "execution_count": 32,
   "metadata": {},
   "outputs": [],
   "source": [
    "def score_titulo(titulo_de_la_filmacion):\n",
    "    ''' Se ingresa el título de una filmación \n",
    "        y la función retorna el título, el año del estreno \n",
    "        y el score de esta misma.'''\n",
    "    \n",
    "    pelicula = movies[['release_year', 'popularity']][movies['title'] == titulo_de_la_filmacion]\n",
    "    lista_anio = []\n",
    "    lista_score = []\n",
    "    lista_resultados = []\n",
    "\n",
    "    for i in range(0, len(pelicula)):\n",
    "        lista_anio.append(pelicula.values[i][0])\n",
    "        lista_score.append(pelicula.values[i][1])\n",
    "\n",
    "\n",
    "    for i in range(0, len(pelicula)):\n",
    "        lista_resultados.append({\"titulo\": titulo_de_la_filmacion, \"anio\": int(lista_anio[i]), \"popularidad\": round(lista_score[i], 2)})\n",
    "\n",
    "    return lista_resultados"
   ]
  },
  {
   "cell_type": "code",
   "execution_count": 33,
   "metadata": {},
   "outputs": [
    {
     "data": {
      "text/plain": [
       "[{'titulo': 'Wonder Woman', 'anio': 2017, 'popularidad': 294.34},\n",
       " {'titulo': 'Wonder Woman', 'anio': 2009, 'popularidad': 7.31},\n",
       " {'titulo': 'Wonder Woman', 'anio': 1974, 'popularidad': 0.37}]"
      ]
     },
     "execution_count": 33,
     "metadata": {},
     "output_type": "execute_result"
    }
   ],
   "source": [
    "score_titulo(\"Wonder Woman\")"
   ]
  },
  {
   "cell_type": "code",
   "execution_count": 34,
   "metadata": {},
   "outputs": [],
   "source": [
    "def votos_titulo(titulo_de_la_filmacion):\n",
    "    '''Se ingresa el título de una filmación y la función retorna el título, \n",
    "        la cantidad de votos y el valor promedio de las votaciones de esta misma pelicula \n",
    "        siempre y cuando la cantidad de votos sea mayor a 2000, de lo contrario devolverá \n",
    "        un mensaje avisando que no cumple con esta condición.'''\n",
    "\n",
    "    pelicula = movies[['release_year','vote_count', 'vote_average']][movies['title'] == titulo_de_la_filmacion]\n",
    "    \n",
    "    lista_resultado = []\n",
    "    dict_menor_2000 = {}\n",
    "    for i in range(0, len(pelicula)):\n",
    "        if pelicula.values[i][1] < 2000:\n",
    "            dict_menor_2000.update({\"message\": f\"No hay ninguna pelicula de {titulo_de_la_filmacion} donde la cantidad de votos sea mayor a 2000, por ende, no se devuelve ningun valor.\"})\n",
    "        else:\n",
    "            lista_resultado.append({\"titulo\": titulo_de_la_filmacion, \n",
    "                                    \"año\": int(pelicula.values[i][0]), \n",
    "                                    \"voto_total\": int(pelicula.values[i][1]), \n",
    "                                    \"voto_promedio\": round(pelicula.values[i][2], 2) })\n",
    "\n",
    "    if len(lista_resultado) > 0:\n",
    "        return lista_resultado\n",
    "    else:\n",
    "        return dict_menor_2000"
   ]
  },
  {
   "cell_type": "code",
   "execution_count": 35,
   "metadata": {},
   "outputs": [
    {
     "data": {
      "text/plain": [
       "[{'titulo': 'Batman', 'año': 1989, 'voto_total': 2145, 'voto_promedio': 7.0}]"
      ]
     },
     "execution_count": 35,
     "metadata": {},
     "output_type": "execute_result"
    }
   ],
   "source": [
    "votos_titulo(\"Batman\")"
   ]
  },
  {
   "cell_type": "code",
   "execution_count": 7,
   "metadata": {},
   "outputs": [],
   "source": [
    "def get_actor(nombre_actor):\n",
    "    '''Se ingresa el nombre de un actor y la función devuelve \n",
    "        el éxito de este mismo medido a través del retorno, \n",
    "        la cantidad de peliculas en las que ha participado y \n",
    "        el promedio de retorno.'''\n",
    "\n",
    "    actores_filtro = [nombre_actor]\n",
    "    movies_filtrado = movies[movies['cast'].apply(lambda x: any(actor in x for actor in actores_filtro))]\n",
    "    cantidad_peliculas = int(movies_filtrado.title.value_counts().sum())\n",
    "    retorno = round(float(movies_filtrado['return'].values.sum()), 2)\n",
    "    promedio_retorno = round(retorno/cantidad_peliculas, 2)\n",
    "\n",
    "    return {\"actor\": nombre_actor, \"cantidad_filmaciones\": cantidad_peliculas, \"retorno_total\": retorno, \"retorno_promedio\": promedio_retorno}"
   ]
  },
  {
   "cell_type": "code",
   "execution_count": 8,
   "metadata": {},
   "outputs": [
    {
     "data": {
      "text/plain": [
       "{'actor': 'Christian Bale',\n",
       " 'cantidad_filmaciones': 42,\n",
       " 'retorno_total': 62.33,\n",
       " 'retorno_promedio': 1.48}"
      ]
     },
     "execution_count": 8,
     "metadata": {},
     "output_type": "execute_result"
    }
   ],
   "source": [
    "get_actor(\"Christian Bale\")"
   ]
  },
  {
   "cell_type": "code",
   "execution_count": 5,
   "metadata": {},
   "outputs": [],
   "source": [
    "def get_director(nombre_director):\n",
    "    '''Se ingresa el nombre de un director de cine y la función \n",
    "        retorna el nombre y el retorno total de este mismo, \n",
    "        así como las peliculas que ha dirigido, con sus respectivas \n",
    "        fechas de estreno, retornos, presupuestos y ganancias. '''\n",
    "    \n",
    "    directores_filtro = [nombre_director]\n",
    "    movies_filtrado = movies[movies[\"director\"].apply(lambda x: any(director in x for director in directores_filtro))]\n",
    "    lista_peliculas = [movies_filtrado[\"title\"].values[i] for i in range(0, len(movies_filtrado[\"title\"].values))]\n",
    "    lista_anio = [np.datetime_as_string(movies_filtrado[\"release_date\"].values[i], unit='D') for i in range(0, len(movies_filtrado[\"release_date\"].values))]\n",
    "    lista_retorno = [float(movies_filtrado[\"return\"].values[i]) for i in range(0, len(movies_filtrado[\"return\"].values))]\n",
    "    lista_budget = [int(movies_filtrado[\"budget\"].values[i]) for i in range(0, len(movies_filtrado[\"budget\"].values))]\n",
    "    lista_ganancia = [int(movies_filtrado[\"revenue\"].values[i]) for i in range(0, len(movies_filtrado[\"revenue\"].values))]\n",
    "    retorno_total_director = float(round(movies_filtrado[\"return\"].sum(), 2))\n",
    "    \n",
    "    return {'director': nombre_director, \n",
    "            'retorno_total_director': retorno_total_director, \n",
    "            'peliculas': lista_peliculas, \n",
    "            'anio': lista_anio, \n",
    "            'retorno_pelicula': lista_retorno, \n",
    "            'budget_pelicula': lista_budget, \n",
    "            'revenue_pelicula': lista_ganancia}"
   ]
  },
  {
   "cell_type": "code",
   "execution_count": 6,
   "metadata": {},
   "outputs": [
    {
     "data": {
      "text/plain": [
       "{'director': 'Patty Jenkins',\n",
       " 'retorno_total_director': 13.06,\n",
       " 'peliculas': ['Wonder Woman', 'Monster', 'Five'],\n",
       " 'anio': ['2017-05-30', '2003-11-16', '2011-10-10'],\n",
       " 'retorno_pelicula': [5.51, 7.55, 0.0],\n",
       " 'budget_pelicula': [149000000, 8000000, 0],\n",
       " 'revenue_pelicula': [820580447, 60378584, 0]}"
      ]
     },
     "execution_count": 6,
     "metadata": {},
     "output_type": "execute_result"
    }
   ],
   "source": [
    "get_director(\"Patty Jenkins\")"
   ]
  }
 ],
 "metadata": {
  "kernelspec": {
   "display_name": "Python 3",
   "language": "python",
   "name": "python3"
  },
  "language_info": {
   "codemirror_mode": {
    "name": "ipython",
    "version": 3
   },
   "file_extension": ".py",
   "mimetype": "text/x-python",
   "name": "python",
   "nbconvert_exporter": "python",
   "pygments_lexer": "ipython3",
   "version": "3.10.11"
  },
  "orig_nbformat": 4
 },
 "nbformat": 4,
 "nbformat_minor": 2
}
